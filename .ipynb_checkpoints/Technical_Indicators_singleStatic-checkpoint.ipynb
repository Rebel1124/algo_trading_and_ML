{
 "cells": [
  {
   "cell_type": "code",
   "execution_count": 1,
   "id": "9a5274ee",
   "metadata": {},
   "outputs": [],
   "source": [
    "# Import Libraries\n",
    "\n",
    "import numpy as np\n",
    "import pandas as pd\n",
    "import pandas_ta as ta    # https://github.com/twopirllc/pandas-ta"
   ]
  },
  {
   "cell_type": "code",
   "execution_count": 2,
   "id": "2e884f4e",
   "metadata": {},
   "outputs": [],
   "source": [
    "# User Inputs\n",
    "\n",
    "assetCode = \"GC=F\"\n",
    "assetName = 'Gold'\n",
    "start_date = '2006-06-30'\n",
    "end_date = '2022-11-01'\n",
    "\n",
    "# Weekly Indicators\n",
    "weeklyEMAShort = 5\n",
    "weeklyEMALong = 13\n",
    "weeklyADX = 6\n",
    "\n",
    "\n",
    "# Daily Indicators\n",
    "dailyEMAShort = 12\n",
    "dailyEMALong = 26\n",
    "elderRayLength = 26\n",
    "bbandsLength = 21\n",
    "macdFast = 12\n",
    "macdSlow = 26\n",
    "macdSignal = 9"
   ]
  },
  {
   "cell_type": "code",
   "execution_count": 3,
   "id": "616614a1",
   "metadata": {},
   "outputs": [],
   "source": [
    "# Get Weekly Asset Data\n",
    "\n",
    "dfWeekly = pd.DataFrame()\n",
    "dfWeekly = dfWeekly.ta.ticker(assetCode, period=\"max\", interval=\"1wk\")\n",
    "dfWeekly = dfWeekly[(dfWeekly.index > start_date) & (dfWeekly.index < end_date)]\n",
    "\n",
    "\n",
    "# Create Custom Weekly Strategy\n",
    "CustomStrategyWeekly = ta.Strategy(\n",
    "    name=\"Weekly Indicators\",\n",
    "    description=\"Weekly EMA and ADX Indicators\",\n",
    "    ta=[\n",
    "        {\"kind\": \"ema\", \"length\": weeklyEMAShort},\n",
    "        {\"kind\": \"ema\", \"length\": weeklyEMALong},\n",
    "        {\"kind\": \"adx\", \"length\": weeklyADX},\n",
    "    ]\n",
    ")\n",
    "# Run \"Custom Weekly Strategy\"\n",
    "dfWeekly.ta.strategy(CustomStrategyWeekly)\n",
    "dfWeekly=dfWeekly.dropna()\n",
    "algoDataWeekly = dfWeekly[['EMA_5', 'EMA_13', 'ADX_6']]\n",
    "\n",
    "algoDataWeekly = algoDataWeekly.rename({'EMA_5': 'weeklyEMA5',\n",
    "                            'EMA_13': 'weeklyEMA13',\n",
    "                            'ADX_6':'weeklyADX'}, axis=1)"
   ]
  },
  {
   "cell_type": "code",
   "execution_count": 4,
   "id": "93909a64",
   "metadata": {},
   "outputs": [],
   "source": [
    "# Get Daily Asset Data\n",
    "\n",
    "dfDaily = pd.DataFrame()\n",
    "dfDaily = dfDaily.ta.ticker(assetCode, period=\"max\", interval=\"1d\")\n",
    "dfDaily = dfDaily[(dfDaily.index > start_date) & (dfDaily.index < end_date)]\n",
    "\n",
    "\n",
    "# Create your own Custom Strategy\n",
    "CustomStrategyDaily = ta.Strategy(\n",
    "    name=\"Daily Indicators\",\n",
    "    description=\"daily Trading Indicators\",\n",
    "    ta=[\n",
    "        {\"kind\": \"ema\", \"length\": dailyEMAShort},\n",
    "        {\"kind\": \"ema\", \"length\": dailyEMALong},\n",
    "        {\"kind\": \"eri\", \"length\": elderRayLength},\n",
    "        {\"kind\": \"bbands\", \"length\": bbandsLength},\n",
    "        {\"kind\": \"macd\", \"fast\": macdFast, \"slow\": macdSlow, \"signal\": macdSignal},\n",
    "        \n",
    "    ]\n",
    ")\n",
    "# Run \"Custom Daily Strategy\"\n",
    "dfDaily.ta.strategy(CustomStrategyDaily)\n",
    "dfDaily=dfDaily.dropna()\n",
    "algoDataDaily = dfDaily[['Close', 'EMA_12', 'EMA_26', 'BULLP_26', 'BEARP_26', 'BBL_21_2.0',\n",
    "                         'BBM_21_2.0', 'BBU_21_2.0', 'BBB_21_2.0', 'MACD_12_26_9', \n",
    "                         'MACDh_12_26_9', 'MACDs_12_26_9']]\n",
    "\n",
    "algoDataDaily = algoDataDaily.rename({'EMA_12': 'dailyEMA12',\n",
    "                            'EMA_26': 'dailyEMA26',\n",
    "                            'BULLP_26': 'BullPower',\n",
    "                            'BEARP_26': 'BearPower',\n",
    "                            'BBL_21_2.0': 'lowerBB',\n",
    "                            'BBM_21_2.0': 'middleBB',\n",
    "                            'BBU_21_2.0': 'upperBB',\n",
    "                            'BBB_21_2.0': '2stdBB',\n",
    "                            'MACD_12_26_9': 'MACDline',\n",
    "                            'MACDh_12_26_9': 'MACDhistogram',\n",
    "                            'MACDs_12_26_9':'MACDsignal'}, axis=1)"
   ]
  },
  {
   "cell_type": "code",
   "execution_count": 5,
   "id": "bc3dd884",
   "metadata": {},
   "outputs": [],
   "source": [
    "# Concatenta weekly and daily indicators and clean dataset\n",
    "\n",
    "algoData = pd.concat([algoDataDaily, algoDataWeekly], axis=1)\n",
    "algoData = algoData.ffill(axis=0)\n",
    "algoData = algoData.dropna()\n",
    "\n",
    "# Save file\n",
    "fileName = 'algoData_'+assetName+'.csv'\n",
    "algoData.to_csv(fileName)"
   ]
  },
  {
   "cell_type": "code",
   "execution_count": null,
   "id": "4307fcfe",
   "metadata": {},
   "outputs": [],
   "source": []
  }
 ],
 "metadata": {
  "kernelspec": {
   "display_name": "Python 3 (ipykernel)",
   "language": "python",
   "name": "python3"
  },
  "language_info": {
   "codemirror_mode": {
    "name": "ipython",
    "version": 3
   },
   "file_extension": ".py",
   "mimetype": "text/x-python",
   "name": "python",
   "nbconvert_exporter": "python",
   "pygments_lexer": "ipython3",
   "version": "3.9.7"
  }
 },
 "nbformat": 4,
 "nbformat_minor": 5
}
