{
 "cells": [
  {
   "cell_type": "code",
   "execution_count": 1,
   "id": "b4f08408",
   "metadata": {},
   "outputs": [],
   "source": [
    "# Initial imports\n",
    "import pandas as pd\n",
    "import numpy as np\n",
    "from pathlib import Path\n",
    "from keras.models import Sequential\n",
    "from keras.layers import Dense, Activation"
   ]
  },
  {
   "cell_type": "code",
   "execution_count": 2,
   "id": "777e0ba7",
   "metadata": {},
   "outputs": [],
   "source": [
    "# Loading data\n",
    "file_path = Path(\"../Datasets/1dayForward/algoData_gold_1dayForward.csv\")\n",
    "df = pd.read_csv(file_path)"
   ]
  },
  {
   "cell_type": "code",
   "execution_count": null,
   "id": "97ca8a63",
   "metadata": {},
   "outputs": [],
   "source": [
    "# Generate the categorical outcome variable\n",
    "df['outcome'] = np.nan\n",
    "df.loc[(df['Signal']==1), 'outcome'] = 'Buy'\n",
    "df.loc[(df['Signal']==-1), 'outcome'] = 'homeWin'"
   ]
  },
  {
   "cell_type": "code",
   "execution_count": null,
   "id": "7e80a169",
   "metadata": {},
   "outputs": [],
   "source": [
    "# Preview the output variable \n",
    "y = df['outcome']\n",
    "\n",
    "# Save the unique number of labels for future use\n",
    "number_of_classes = len(list(y.drop_duplicates()))\n",
    "\n",
    "# Specify X (predictor) variables\n",
    "X = df.drop(columns=[\"Result\", \"outcome\"])"
   ]
  },
  {
   "cell_type": "code",
   "execution_count": null,
   "id": "e86219d0",
   "metadata": {},
   "outputs": [],
   "source": [
    "# Encode earnings labels to integers\n",
    "from sklearn.preprocessing import LabelEncoder\n",
    "encoder = LabelEncoder()\n",
    "encoder.fit(y)\n",
    "encoded_y = encoder.transform(y)"
   ]
  },
  {
   "cell_type": "code",
   "execution_count": null,
   "id": "999288b3",
   "metadata": {},
   "outputs": [],
   "source": [
    "# Convert labeled integers to a Keras `categorical` data type\n",
    "from keras.utils.np_utils import to_categorical\n",
    "y_categorical = to_categorical(encoded_y, num_classes=number_of_classes)"
   ]
  },
  {
   "cell_type": "code",
   "execution_count": null,
   "id": "a2535d3a",
   "metadata": {},
   "outputs": [],
   "source": [
    "# Split into training and testing windows\n",
    "from sklearn.model_selection import train_test_split\n",
    "X_train, X_test, y_train, y_test = train_test_split(X, y_categorical, random_state=42, stratify=y)"
   ]
  },
  {
   "cell_type": "code",
   "execution_count": null,
   "id": "6e1fa5e8",
   "metadata": {},
   "outputs": [],
   "source": [
    "# Check for class balance\n",
    "#pd.DataFrame(y_train).sum()"
   ]
  },
  {
   "cell_type": "code",
   "execution_count": null,
   "id": "a68eee53",
   "metadata": {},
   "outputs": [],
   "source": [
    "# Build the neural network layers\n",
    "\n",
    "number_of_predictors = len(X.columns)\n",
    "hidden_nodes_layer1 = 15\n",
    "hidden_nodes_layer2 = 9\n",
    "\n",
    "model = Sequential()\n",
    "model.add(Dense(hidden_nodes_layer1, input_dim=number_of_predictors, activation='relu'))\n",
    "model.add(Dense(hidden_nodes_layer2, activation='relu'))"
   ]
  },
  {
   "cell_type": "code",
   "execution_count": null,
   "id": "d7b8213c",
   "metadata": {},
   "outputs": [],
   "source": [
    "# Add the final output layer\n",
    "# With the # of possible outputs equal to the number classes \n",
    "model.add(Dense(number_of_classes, activation='sigmoid'))"
   ]
  },
  {
   "cell_type": "code",
   "execution_count": null,
   "id": "9aba6633",
   "metadata": {},
   "outputs": [],
   "source": [
    "# Compile the model (with multi-class specific parameters)\n",
    "model.compile(loss= \"binary_crossentropy\", \n",
    "              optimizer= \"adam\", \n",
    "              metrics=['categorical_accuracy'])"
   ]
  },
  {
   "cell_type": "code",
   "execution_count": null,
   "id": "1823b610",
   "metadata": {},
   "outputs": [],
   "source": [
    "# Summarise the structure of the model\n",
    "model.summary()"
   ]
  },
  {
   "cell_type": "code",
   "execution_count": null,
   "id": "6e935ff3",
   "metadata": {},
   "outputs": [],
   "source": [
    "# Fit the model\n",
    "model.fit(X_train,y_train, \n",
    "                    epochs=500,\n",
    "                    batch_size=750,\n",
    "                    shuffle=True)"
   ]
  },
  {
   "cell_type": "code",
   "execution_count": null,
   "id": "3e4fdb75",
   "metadata": {},
   "outputs": [],
   "source": [
    "# Evaluate model on the test data\n",
    "model.evaluate(X_test,y_test, verbose=2)"
   ]
  },
  {
   "cell_type": "code",
   "execution_count": null,
   "id": "f25c33ae",
   "metadata": {},
   "outputs": [],
   "source": [
    "# Save predictions on the test data\n",
    "predictions = model.predict(X_test)"
   ]
  },
  {
   "cell_type": "code",
   "execution_count": null,
   "id": "748ad838",
   "metadata": {},
   "outputs": [],
   "source": [
    "# Get the most likely prediction for each observation\n",
    "most_likely = np.argmax(predictions, axis=1)\n",
    "#most_likely\n",
    "\n",
    "results = most_likely"
   ]
  },
  {
   "cell_type": "code",
   "execution_count": null,
   "id": "7e60f3d8",
   "metadata": {},
   "outputs": [],
   "source": [
    "# Convert most likely category back to original labels\n",
    "most_likely = encoder.inverse_transform((most_likely))\n",
    "#most_likely"
   ]
  },
  {
   "cell_type": "code",
   "execution_count": null,
   "id": "43600847",
   "metadata": {},
   "outputs": [],
   "source": [
    "# Evaluate prediction balance\n",
    "#pd.DataFrame(most_likely).value_counts()"
   ]
  },
  {
   "cell_type": "code",
   "execution_count": null,
   "id": "dabc84f0",
   "metadata": {},
   "outputs": [],
   "source": [
    "from sklearn.metrics import classification_report\n",
    "\n",
    "y_test_mod = []\n",
    "count = len(y_test)\n",
    "\n",
    "for i in range(0, count):\n",
    "    if(y_test[i][0]==1):\n",
    "        y_test_mod.append(0)\n",
    "    else:\n",
    "        y_test_mod.append(1)\n",
    "        \n",
    "test_results = np.array(y_test_mod)\n",
    "\n",
    "print(\"Classification Report\")\n",
    "print(classification_report(test_results, results))"
   ]
  },
  {
   "cell_type": "code",
   "execution_count": null,
   "id": "5c568b8b",
   "metadata": {},
   "outputs": [],
   "source": []
  }
 ],
 "metadata": {
  "kernelspec": {
   "display_name": "Python 3 (ipykernel)",
   "language": "python",
   "name": "python3"
  },
  "language_info": {
   "codemirror_mode": {
    "name": "ipython",
    "version": 3
   },
   "file_extension": ".py",
   "mimetype": "text/x-python",
   "name": "python",
   "nbconvert_exporter": "python",
   "pygments_lexer": "ipython3",
   "version": "3.9.7"
  }
 },
 "nbformat": 4,
 "nbformat_minor": 5
}
