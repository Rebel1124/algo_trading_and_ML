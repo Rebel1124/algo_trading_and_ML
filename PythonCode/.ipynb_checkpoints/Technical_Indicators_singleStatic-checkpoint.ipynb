{
 "cells": [
  {
   "cell_type": "code",
   "execution_count": 1,
   "id": "9a5274ee",
   "metadata": {},
   "outputs": [],
   "source": [
    "# Import Libraries\n",
    "\n",
    "import numpy as np\n",
    "import pandas as pd\n",
    "import pandas_ta as ta    # https://github.com/twopirllc/pandas-ta"
   ]
  },
  {
   "cell_type": "code",
   "execution_count": 2,
   "id": "616614a1",
   "metadata": {},
   "outputs": [],
   "source": [
    "# Get Weekly Asset Data\n",
    "\n",
    "dfWeekly = pd.DataFrame()\n",
    "dfWeekly = dfWeekly.ta.ticker(\"GC=F\", period=\"max\", interval=\"1wk\")\n",
    "dfWeekly = dfWeekly[(dfWeekly.index > '2006-06-30') & (dfWeekly.index < '2022-11-01')]\n",
    "\n",
    "\n",
    "# Create Custom Weekly Strategy\n",
    "CustomStrategyWeekly = ta.Strategy(\n",
    "    name=\"Weekly Indicators\",\n",
    "    description=\"Weekly EMA and ADX Indicators\",\n",
    "    ta=[\n",
    "        {\"kind\": \"ema\", \"length\": 5},\n",
    "        {\"kind\": \"ema\", \"length\": 13},\n",
    "        {\"kind\": \"adx\", \"length\": 6},\n",
    "    ]\n",
    ")\n",
    "# Run \"Custom Weekly Strategy\"\n",
    "dfWeekly.ta.strategy(CustomStrategyWeekly)\n",
    "dfWeekly=dfWeekly.dropna()\n",
    "algoDataWeekly = dfWeekly[['EMA_5', 'EMA_13', 'ADX_6']]\n",
    "\n",
    "algoDataWeekly = algoDataWeekly.rename({'EMA_5': 'weeklyEMA5',\n",
    "                            'EMA_13': 'weeklyEMA13',\n",
    "                            'ADX_6':'weeklyADX'}, axis=1)"
   ]
  },
  {
   "cell_type": "code",
   "execution_count": 3,
   "id": "93909a64",
   "metadata": {},
   "outputs": [],
   "source": [
    "# Get Daily Asset Data\n",
    "\n",
    "dfDaily = pd.DataFrame()\n",
    "dfDaily = dfDaily.ta.ticker(\"GC=F\", period=\"max\", interval=\"1d\")\n",
    "dfDaily = dfDaily[(dfDaily.index > '2006-06-30') & (dfDaily.index < '2022-11-01')]\n",
    "\n",
    "\n",
    "# Create your own Custom Strategy\n",
    "CustomStrategyDaily = ta.Strategy(\n",
    "    name=\"Daily Indicators\",\n",
    "    description=\"daily Trading Indicators\",\n",
    "    ta=[\n",
    "        {\"kind\": \"ema\", \"length\": 12},\n",
    "        {\"kind\": \"ema\", \"length\": 26},\n",
    "        {\"kind\": \"eri\", \"length\": 12},\n",
    "        {\"kind\": \"bbands\", \"length\": 21},\n",
    "        {\"kind\": \"macd\", \"fast\": 12, \"slow\": 26, \"signal\": 9},\n",
    "        \n",
    "    ]\n",
    ")\n",
    "# Run \"Custom Daily Strategy\"\n",
    "dfDaily.ta.strategy(CustomStrategyDaily)\n",
    "dfDaily=dfDaily.dropna()\n",
    "algoDataDaily = dfDaily[['Close', 'EMA_12', 'EMA_26', 'BULLP_12', 'BEARP_12', 'BBL_21_2.0',\n",
    "                         'BBM_21_2.0', 'BBU_21_2.0', 'BBB_21_2.0', 'MACD_12_26_9', \n",
    "                         'MACDh_12_26_9', 'MACDs_12_26_9']]\n",
    "\n",
    "algoDataDaily = algoDataDaily.rename({'EMA_12': 'dailyEMA12',\n",
    "                            'EMA_26': 'dailyEMA26',\n",
    "                            'BULLP_12': 'BullPower',\n",
    "                            'BEARP_12': 'BearPower',\n",
    "                            'BBL_21_2.0': 'lowerBB',\n",
    "                            'BBM_21_2.0': 'middleBB',\n",
    "                            'BBU_21_2.0': 'upperBB',\n",
    "                            'BBB_21_2.0': '2stdBB',\n",
    "                            'MACD_12_26_9': 'MACDline',\n",
    "                            'MACDh_12_26_9': 'MACDhistogram',\n",
    "                            'MACDs_12_26_9':'MACDsignal'}, axis=1)"
   ]
  },
  {
   "cell_type": "code",
   "execution_count": 4,
   "id": "bc3dd884",
   "metadata": {},
   "outputs": [],
   "source": [
    "# Concatenta weekly and daily indicators and clean dataset\n",
    "\n",
    "algoData = pd.concat([algoDataDaily, algoDataWeekly], axis=1)\n",
    "algoData = algoData.ffill(axis=0)\n",
    "algoData = algoData.dropna()\n",
    "\n",
    "# Save file\n",
    "fileName = 'algoData_'+'Gold'+'.csv'\n",
    "algoData.to_csv(fileName)"
   ]
  },
  {
   "cell_type": "code",
   "execution_count": null,
   "id": "4307fcfe",
   "metadata": {},
   "outputs": [],
   "source": []
  }
 ],
 "metadata": {
  "kernelspec": {
   "display_name": "Python 3 (ipykernel)",
   "language": "python",
   "name": "python3"
  },
  "language_info": {
   "codemirror_mode": {
    "name": "ipython",
    "version": 3
   },
   "file_extension": ".py",
   "mimetype": "text/x-python",
   "name": "python",
   "nbconvert_exporter": "python",
   "pygments_lexer": "ipython3",
   "version": "3.9.7"
  }
 },
 "nbformat": 4,
 "nbformat_minor": 5
}
