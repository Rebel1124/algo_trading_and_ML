{
 "cells": [
  {
   "cell_type": "code",
   "execution_count": 1,
   "id": "f4ede37b",
   "metadata": {},
   "outputs": [],
   "source": [
    "# Initial imports\n",
    "import pandas as pd\n",
    "import numpy as np\n",
    "from pathlib import Path\n",
    "from sklearn.ensemble import RandomForestClassifier\n",
    "from sklearn.preprocessing import StandardScaler\n",
    "from sklearn.model_selection import train_test_split\n",
    "from sklearn.metrics import confusion_matrix, accuracy_score, classification_report\n",
    "from pandas.tseries.offsets import DateOffset\n",
    "#from pandas_datareader import data\n",
    "import plotly.express as px\n",
    "import plotly.graph_objects as go\n",
    "import plotly.io as pio\n",
    "from datetime import datetime, timedelta\n",
    "\n",
    "# Needed for decision tree visualization\n",
    "import pydotplus\n",
    "from IPython.display import Image"
   ]
  },
  {
   "cell_type": "code",
   "execution_count": 2,
   "id": "48afdaca",
   "metadata": {},
   "outputs": [],
   "source": [
    "# Loading data\n",
    "file_path = Path(\"../Datasets/1dayForward/algoData_S&P500_1dayForward.csv\")\n",
    "df = pd.read_csv(file_path)\n",
    "df.set_index('Date', inplace=True)\n",
    "df.index = pd.to_datetime(df.index)\n"
   ]
  },
  {
   "cell_type": "code",
   "execution_count": 3,
   "id": "6266d1d6",
   "metadata": {},
   "outputs": [],
   "source": [
    "# z-scores Features\n",
    "zScoreFeatures = ['EMAShort_zscore', 'EMALong_zscore',  'RSIline_zscore', 'MOMline_zscore', 'ROCline_zscore',\n",
    "                   'SMAline_zscore', 'lowerBB_zscore', 'middleBB_zscore', \"upperBB_zscore\", \n",
    "                  \"2stdBB_zscore\", \"MACDline_zscore\", 'MACDHistogram_zscore','MACDSignal_zscore' ]\n",
    "\n",
    "\n",
    "# normal Features\n",
    "normalFeatures = ['EMAShort_normal', 'EMALong_normal',  'RSIline_normal', 'MOMline_normal', 'ROCline_normal',\n",
    "                   'SMAline_normal', 'lowerBB_normal', 'middleBB_normal', \"upperBB_normal\", \n",
    "                  \"2stdBB_normal\", \"MACDline_normal\", 'MACDHistogram_normal','MACDSignal_normal' ]"
   ]
  },
  {
   "cell_type": "code",
   "execution_count": 4,
   "id": "7efe1299",
   "metadata": {},
   "outputs": [],
   "source": [
    "# Separate the data into labels and features\n",
    "\n",
    "# Separate the y variable, the labels\n",
    "#y = df[\"Signal\"].values.reshape(-1,1)\n",
    "y = df['Signal']\n",
    "\n",
    "# Separate the X variable, the features\n",
    "#X = df[zScoreFeatures]\n",
    "X = df[normalFeatures]"
   ]
  },
  {
   "cell_type": "code",
   "execution_count": 5,
   "id": "282fa294",
   "metadata": {},
   "outputs": [
    {
     "name": "stdout",
     "output_type": "stream",
     "text": [
      "2006-10-10 00:00:00-04:00\n"
     ]
    }
   ],
   "source": [
    "# Split data into training and test datasets\n",
    "\n",
    "# Select the start of the training period\n",
    "training_begin = X.index.min()\n",
    "\n",
    "# Display the training begin date\n",
    "print(training_begin)"
   ]
  },
  {
   "cell_type": "code",
   "execution_count": 6,
   "id": "3dcd193b",
   "metadata": {},
   "outputs": [
    {
     "name": "stdout",
     "output_type": "stream",
     "text": [
      "2018-11-10 00:00:00-04:00\n"
     ]
    }
   ],
   "source": [
    "# Select the ending period for the training data with an offset of 145 months\n",
    "training_end = X.index.min() + DateOffset(months=145)\n",
    "\n",
    "# Display the training end date\n",
    "print(training_end)"
   ]
  },
  {
   "cell_type": "code",
   "execution_count": 7,
   "id": "de690cc0",
   "metadata": {},
   "outputs": [],
   "source": [
    "# Generate the X_train and y_train DataFrames\n",
    "X_train = X.loc[training_begin:training_end]\n",
    "y_train = y.loc[training_begin:training_end]\n",
    "\n",
    "# Review the X_train DataFrame\n",
    "#X_train.tail()"
   ]
  },
  {
   "cell_type": "code",
   "execution_count": 8,
   "id": "35c6254d",
   "metadata": {},
   "outputs": [],
   "source": [
    "# Generate the X_test and y_test DataFrames\n",
    "X_test = X.loc[training_end+DateOffset(hours=1):]\n",
    "y_test = y.loc[training_end+DateOffset(hours=1):]\n",
    "\n",
    "# Review the X_test DataFrame\n",
    "#X_test.head()"
   ]
  },
  {
   "cell_type": "code",
   "execution_count": 9,
   "id": "553a5b61",
   "metadata": {},
   "outputs": [],
   "source": [
    "# Create the random forest classifier instance\n",
    "rf_model = RandomForestClassifier(n_estimators=1000, random_state=42)"
   ]
  },
  {
   "cell_type": "code",
   "execution_count": 10,
   "id": "52985eab",
   "metadata": {},
   "outputs": [],
   "source": [
    "# Fit the model\n",
    "rf_model = rf_model.fit(X_train, y_train)"
   ]
  },
  {
   "cell_type": "code",
   "execution_count": 11,
   "id": "fdb83062",
   "metadata": {},
   "outputs": [],
   "source": [
    "# Making predictions using the testing data\n",
    "predictions = rf_model.predict(X_test)\n"
   ]
  },
  {
   "cell_type": "code",
   "execution_count": 12,
   "id": "7e07f193",
   "metadata": {},
   "outputs": [],
   "source": [
    "# Calculating the confusion matrix\n",
    "cm = confusion_matrix(y_test, predictions)\n",
    "cm_df = pd.DataFrame(cm,\n",
    "                    index=['Sell', 'Buy'],\n",
    "                    columns=['Sell', 'Buy'])\n",
    "\n",
    "# Calculating the accuracy score\n",
    "acc_score = accuracy_score(y_test, predictions)"
   ]
  },
  {
   "cell_type": "code",
   "execution_count": 13,
   "id": "7d950f42",
   "metadata": {},
   "outputs": [
    {
     "name": "stdout",
     "output_type": "stream",
     "text": [
      "Confusion Matrix\n"
     ]
    },
    {
     "data": {
      "text/html": [
       "<div>\n",
       "<style scoped>\n",
       "    .dataframe tbody tr th:only-of-type {\n",
       "        vertical-align: middle;\n",
       "    }\n",
       "\n",
       "    .dataframe tbody tr th {\n",
       "        vertical-align: top;\n",
       "    }\n",
       "\n",
       "    .dataframe thead th {\n",
       "        text-align: right;\n",
       "    }\n",
       "</style>\n",
       "<table border=\"1\" class=\"dataframe\">\n",
       "  <thead>\n",
       "    <tr style=\"text-align: right;\">\n",
       "      <th></th>\n",
       "      <th>Sell</th>\n",
       "      <th>Buy</th>\n",
       "    </tr>\n",
       "  </thead>\n",
       "  <tbody>\n",
       "    <tr>\n",
       "      <th>Sell</th>\n",
       "      <td>183</td>\n",
       "      <td>272</td>\n",
       "    </tr>\n",
       "    <tr>\n",
       "      <th>Buy</th>\n",
       "      <td>195</td>\n",
       "      <td>348</td>\n",
       "    </tr>\n",
       "  </tbody>\n",
       "</table>\n",
       "</div>"
      ],
      "text/plain": [
       "      Sell  Buy\n",
       "Sell   183  272\n",
       "Buy    195  348"
      ]
     },
     "metadata": {},
     "output_type": "display_data"
    },
    {
     "name": "stdout",
     "output_type": "stream",
     "text": [
      "Accuracy Score : 0.5320641282565131\n",
      "Classification Report\n",
      "              precision    recall  f1-score   support\n",
      "\n",
      "        -1.0       0.48      0.40      0.44       455\n",
      "         1.0       0.56      0.64      0.60       543\n",
      "\n",
      "    accuracy                           0.53       998\n",
      "   macro avg       0.52      0.52      0.52       998\n",
      "weighted avg       0.53      0.53      0.53       998\n",
      "\n"
     ]
    }
   ],
   "source": [
    "# Displaying results\n",
    "print(\"Confusion Matrix\")\n",
    "display(cm_df)\n",
    "print(f\"Accuracy Score : {acc_score}\")\n",
    "print(\"Classification Report\")\n",
    "print(classification_report(y_test, predictions))"
   ]
  },
  {
   "cell_type": "code",
   "execution_count": 14,
   "id": "e5d3b33c",
   "metadata": {},
   "outputs": [],
   "source": [
    "# Get the feature importance array\n",
    "importances = rf_model.feature_importances_"
   ]
  },
  {
   "cell_type": "code",
   "execution_count": 15,
   "id": "fcf9a36e",
   "metadata": {},
   "outputs": [
    {
     "data": {
      "text/plain": [
       "[(0.08493578802526522, 'MOMline_normal'),\n",
       " (0.08415621393735934, 'ROCline_normal'),\n",
       " (0.08313644551098445, 'RSIline_normal'),\n",
       " (0.07672871456527407, 'SMAline_normal'),\n",
       " (0.07639405519139006, 'MACDHistogram_normal'),\n",
       " (0.0763510887481128, 'MACDSignal_normal'),\n",
       " (0.07600494513532845, 'upperBB_normal'),\n",
       " (0.07586781325633588, 'MACDline_normal'),\n",
       " (0.07463999530279586, 'EMALong_normal'),\n",
       " (0.07427948577740992, '2stdBB_normal'),\n",
       " (0.07288325166807764, 'EMAShort_normal'),\n",
       " (0.07234254884233415, 'lowerBB_normal'),\n",
       " (0.07227965403933212, 'middleBB_normal')]"
      ]
     },
     "execution_count": 15,
     "metadata": {},
     "output_type": "execute_result"
    }
   ],
   "source": [
    "# List the most important features\n",
    "importances_sorted = sorted(zip(rf_model.feature_importances_, X_train.columns), reverse=True)\n",
    "importances_sorted[:]"
   ]
  },
  {
   "cell_type": "code",
   "execution_count": 16,
   "id": "a35220a3",
   "metadata": {},
   "outputs": [
    {
     "data": {
      "text/plain": [
       "<AxesSubplot:xlabel='Date'>"
      ]
     },
     "execution_count": 16,
     "metadata": {},
     "output_type": "execute_result"
    },
    {
     "data": {
      "image/png": "[encoded data removed]",
      "text/plain": [
       "<Figure size 432x288 with 1 Axes>"
      ]
     },
     "metadata": {
      "needs_background": "light"
     },
     "output_type": "display_data"
    }
   ],
   "source": [
    "# Create a new empty predictions DataFrame:\n",
    "\n",
    "# Create a predictions DataFrame\n",
    "predictions_df = pd.DataFrame(index=X_test.index)\n",
    "\n",
    "# Add the SVM model predictions to the DataFrame\n",
    "predictions_df['Predicted'] = predictions\n",
    "\n",
    "predictions_df['ActualReturns'] = df['ActualReturns']\n",
    "\n",
    "# Add the strategy returns to the DataFrame\n",
    "predictions_df['StrategyReturns'] = predictions_df['ActualReturns'] * predictions_df['Predicted']\n",
    "\n",
    "# Plot the actual returns versus the strategy returns\n",
    "(1 + predictions_df[[\"ActualReturns\", \"StrategyReturns\"]]).cumprod().plot()"
   ]
  },
  {
   "cell_type": "code",
   "execution_count": null,
   "id": "dc55599f",
   "metadata": {},
   "outputs": [],
   "source": []
  }
 ],
 "metadata": {
  "kernelspec": {
   "display_name": "Python 3 (ipykernel)",
   "language": "python",
   "name": "python3"
  },
  "language_info": {
   "codemirror_mode": {
    "name": "ipython",
    "version": 3
   },
   "file_extension": ".py",
   "mimetype": "text/x-python",
   "name": "python",
   "nbconvert_exporter": "python",
   "pygments_lexer": "ipython3",
   "version": "3.9.7"
  }
 },
 "nbformat": 4,
 "nbformat_minor": 5
}
