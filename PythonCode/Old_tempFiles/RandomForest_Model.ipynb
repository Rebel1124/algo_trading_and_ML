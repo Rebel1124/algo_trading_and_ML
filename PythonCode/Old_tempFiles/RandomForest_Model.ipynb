{
 "cells": [
  {
   "cell_type": "code",
   "execution_count": 1,
   "id": "f4ede37b",
   "metadata": {},
   "outputs": [],
   "source": [
    "# Initial imports\n",
    "import pandas as pd\n",
    "import numpy as np\n",
    "from pathlib import Path\n",
    "from sklearn.ensemble import RandomForestClassifier\n",
    "from sklearn.preprocessing import StandardScaler\n",
    "from sklearn.model_selection import train_test_split\n",
    "from sklearn.metrics import confusion_matrix, accuracy_score, classification_report\n",
    "from pandas.tseries.offsets import DateOffset\n",
    "#from pandas_datareader import data\n",
    "import plotly.express as px\n",
    "import plotly.graph_objects as go\n",
    "import plotly.io as pio\n",
    "from datetime import datetime, timedelta\n",
    "\n",
    "# Needed for decision tree visualization\n",
    "import pydotplus\n",
    "from IPython.display import Image"
   ]
  },
  {
   "cell_type": "code",
   "execution_count": 2,
   "id": "48afdaca",
   "metadata": {},
   "outputs": [],
   "source": [
    "# Loading data\n",
    "file_path = Path(\"../Datasets/algoData_BTC-USD.csv\")\n",
    "df = pd.read_csv(file_path)\n",
    "df.set_index('Date', inplace=True)\n",
    "df.index = pd.to_datetime(df.index)\n"
   ]
  },
  {
   "cell_type": "code",
   "execution_count": 3,
   "id": "6266d1d6",
   "metadata": {},
   "outputs": [],
   "source": [
    "# z-scores Features\n",
    "zScoreFeatures = ['EMAShort_zscore', 'EMALong_zscore',  'RSIline_zscore', 'MOMline_zscore', 'ROCline_zscore',\n",
    "                   'SMAline_zscore', 'lowerBB_zscore', 'middleBB_zscore', \"upperBB_zscore\", \n",
    "                  \"2stdBB_zscore\", \"MACDline_zscore\", 'MACDHistogram_zscore','MACDSignal_zscore' ]\n",
    "\n",
    "\n",
    "# normal Features\n",
    "normalFeatures = ['EMAShort_normal', 'EMALong_normal',  'RSIline_normal', 'MOMline_normal', 'ROCline_normal',\n",
    "                   'SMAline_normal', 'lowerBB_normal', 'middleBB_normal', \"upperBB_normal\", \n",
    "                  \"2stdBB_normal\", \"MACDline_normal\", 'MACDHistogram_normal','MACDSignal_normal' ]"
   ]
  },
  {
   "cell_type": "code",
   "execution_count": 4,
   "id": "7efe1299",
   "metadata": {},
   "outputs": [],
   "source": [
    "# Separate the data into labels and features\n",
    "\n",
    "# Separate the y variable, the labels\n",
    "#y = df[\"Signal\"].values.reshape(-1,1)\n",
    "y = df['Signal']\n",
    "\n",
    "# Separate the X variable, the features\n",
    "X = df[zScoreFeatures]\n",
    "#X = df[normalFeatures]"
   ]
  },
  {
   "cell_type": "code",
   "execution_count": 5,
   "id": "282fa294",
   "metadata": {},
   "outputs": [
    {
     "name": "stdout",
     "output_type": "stream",
     "text": [
      "2014-12-04 00:00:00+00:00\n"
     ]
    }
   ],
   "source": [
    "# Split data into training and test datasets\n",
    "\n",
    "# Select the start of the training period\n",
    "training_begin = X.index.min()\n",
    "\n",
    "# Display the training begin date\n",
    "print(training_begin)"
   ]
  },
  {
   "cell_type": "code",
   "execution_count": 6,
   "id": "3dcd193b",
   "metadata": {},
   "outputs": [
    {
     "name": "stdout",
     "output_type": "stream",
     "text": [
      "2020-10-04 00:00:00+00:00\n"
     ]
    }
   ],
   "source": [
    "# Select the ending period for the training data with an offset of 145 months\n",
    "training_end = X.index.min() + DateOffset(months=70)\n",
    "\n",
    "# Display the training end date\n",
    "print(training_end)"
   ]
  },
  {
   "cell_type": "code",
   "execution_count": 7,
   "id": "de690cc0",
   "metadata": {},
   "outputs": [],
   "source": [
    "# Generate the X_train and y_train DataFrames\n",
    "X_train = X.loc[training_begin:training_end]\n",
    "y_train = y.loc[training_begin:training_end]\n",
    "\n",
    "# Review the X_train DataFrame\n",
    "#X_train.tail()"
   ]
  },
  {
   "cell_type": "code",
   "execution_count": 8,
   "id": "35c6254d",
   "metadata": {},
   "outputs": [],
   "source": [
    "# Generate the X_test and y_test DataFrames\n",
    "X_test = X.loc[training_end+DateOffset(days=1):]\n",
    "y_test = y.loc[training_end+DateOffset(days=1):]\n",
    "\n",
    "# Review the X_test DataFrame\n",
    "#X_test.head()"
   ]
  },
  {
   "cell_type": "code",
   "execution_count": 9,
   "id": "553a5b61",
   "metadata": {},
   "outputs": [],
   "source": [
    "# Create the random forest classifier instance\n",
    "rf_model = RandomForestClassifier(n_estimators=500, random_state=42)"
   ]
  },
  {
   "cell_type": "code",
   "execution_count": 10,
   "id": "52985eab",
   "metadata": {},
   "outputs": [],
   "source": [
    "# Fit the model\n",
    "rf_model = rf_model.fit(X_train, y_train)"
   ]
  },
  {
   "cell_type": "code",
   "execution_count": 11,
   "id": "fdb83062",
   "metadata": {},
   "outputs": [],
   "source": [
    "# Making predictions using the testing data\n",
    "predictions = rf_model.predict(X_test)\n"
   ]
  },
  {
   "cell_type": "code",
   "execution_count": 12,
   "id": "7e07f193",
   "metadata": {},
   "outputs": [],
   "source": [
    "# Calculating the confusion matrix\n",
    "cm = confusion_matrix(y_test, predictions)\n",
    "cm_df = pd.DataFrame(cm,\n",
    "                    index=['Sell', 'Buy'],\n",
    "                    columns=['Sell', 'Buy'])\n",
    "\n",
    "# Calculating the accuracy score\n",
    "acc_score = accuracy_score(y_test, predictions)"
   ]
  },
  {
   "cell_type": "code",
   "execution_count": 13,
   "id": "7d950f42",
   "metadata": {},
   "outputs": [
    {
     "name": "stdout",
     "output_type": "stream",
     "text": [
      "Confusion Matrix\n"
     ]
    },
    {
     "data": {
      "text/html": [
       "<div>\n",
       "<style scoped>\n",
       "    .dataframe tbody tr th:only-of-type {\n",
       "        vertical-align: middle;\n",
       "    }\n",
       "\n",
       "    .dataframe tbody tr th {\n",
       "        vertical-align: top;\n",
       "    }\n",
       "\n",
       "    .dataframe thead th {\n",
       "        text-align: right;\n",
       "    }\n",
       "</style>\n",
       "<table border=\"1\" class=\"dataframe\">\n",
       "  <thead>\n",
       "    <tr style=\"text-align: right;\">\n",
       "      <th></th>\n",
       "      <th>Sell</th>\n",
       "      <th>Buy</th>\n",
       "    </tr>\n",
       "  </thead>\n",
       "  <tbody>\n",
       "    <tr>\n",
       "      <th>Sell</th>\n",
       "      <td>128</td>\n",
       "      <td>239</td>\n",
       "    </tr>\n",
       "    <tr>\n",
       "      <th>Buy</th>\n",
       "      <td>137</td>\n",
       "      <td>252</td>\n",
       "    </tr>\n",
       "  </tbody>\n",
       "</table>\n",
       "</div>"
      ],
      "text/plain": [
       "      Sell  Buy\n",
       "Sell   128  239\n",
       "Buy    137  252"
      ]
     },
     "metadata": {},
     "output_type": "display_data"
    },
    {
     "name": "stdout",
     "output_type": "stream",
     "text": [
      "Accuracy Score : 0.5026455026455027\n",
      "Classification Report\n",
      "              precision    recall  f1-score   support\n",
      "\n",
      "        -1.0       0.48      0.35      0.41       367\n",
      "         1.0       0.51      0.65      0.57       389\n",
      "\n",
      "    accuracy                           0.50       756\n",
      "   macro avg       0.50      0.50      0.49       756\n",
      "weighted avg       0.50      0.50      0.49       756\n",
      "\n"
     ]
    }
   ],
   "source": [
    "# Displaying results\n",
    "print(\"Confusion Matrix\")\n",
    "display(cm_df)\n",
    "print(f\"Accuracy Score : {acc_score}\")\n",
    "print(\"Classification Report\")\n",
    "print(classification_report(y_test, predictions))"
   ]
  },
  {
   "cell_type": "code",
   "execution_count": 14,
   "id": "e5d3b33c",
   "metadata": {},
   "outputs": [],
   "source": [
    "# Get the feature importance array\n",
    "importances = rf_model.feature_importances_"
   ]
  },
  {
   "cell_type": "code",
   "execution_count": 15,
   "id": "fcf9a36e",
   "metadata": {},
   "outputs": [
    {
     "data": {
      "text/plain": [
       "[(0.08293384597257168, 'RSIline_zscore'),\n",
       " (0.08282271944410419, 'ROCline_zscore'),\n",
       " (0.07922620614441157, 'SMAline_zscore'),\n",
       " (0.07903634515721837, 'MOMline_zscore'),\n",
       " (0.0765728233474921, 'lowerBB_zscore'),\n",
       " (0.07626676607915417, 'MACDHistogram_zscore'),\n",
       " (0.07557208462454353, '2stdBB_zscore'),\n",
       " (0.07554525623009957, 'MACDSignal_zscore'),\n",
       " (0.07545200443963085, 'EMAShort_zscore'),\n",
       " (0.07542046859476079, 'upperBB_zscore'),\n",
       " (0.0743754082450636, 'EMALong_zscore'),\n",
       " (0.07348414871532234, 'middleBB_zscore'),\n",
       " (0.07329192300562713, 'MACDline_zscore')]"
      ]
     },
     "execution_count": 15,
     "metadata": {},
     "output_type": "execute_result"
    }
   ],
   "source": [
    "# List the most important features\n",
    "importances_sorted = sorted(zip(rf_model.feature_importances_, X_train.columns), reverse=True)\n",
    "importances_sorted[:]"
   ]
  },
  {
   "cell_type": "code",
   "execution_count": 16,
   "id": "a35220a3",
   "metadata": {},
   "outputs": [
    {
     "data": {
      "text/plain": [
       "<AxesSubplot:xlabel='Date'>"
      ]
     },
     "execution_count": 16,
     "metadata": {},
     "output_type": "execute_result"
    },
    {
     "data": {
      "image/png": "[encoded data removed]",
      "text/plain": [
       "<Figure size 432x288 with 1 Axes>"
      ]
     },
     "metadata": {
      "needs_background": "light"
     },
     "output_type": "display_data"
    }
   ],
   "source": [
    "# Create a new empty predictions DataFrame:\n",
    "\n",
    "# Create a predictions DataFrame\n",
    "predictions_df = pd.DataFrame(index=X_test.index)\n",
    "\n",
    "# Add the SVM model predictions to the DataFrame\n",
    "predictions_df['Predicted'] = predictions\n",
    "\n",
    "predictions_df['ActualReturns'] = df['ActualReturns']\n",
    "\n",
    "# Add the strategy returns to the DataFrame\n",
    "predictions_df['StrategyReturns'] = predictions_df['ActualReturns'] * predictions_df['Predicted']\n",
    "\n",
    "# Plot the actual returns versus the strategy returns\n",
    "(1 + predictions_df[[\"ActualReturns\", \"StrategyReturns\"]]).cumprod().plot()"
   ]
  },
  {
   "cell_type": "code",
   "execution_count": 17,
   "id": "dc55599f",
   "metadata": {},
   "outputs": [],
   "source": [
    "del predictions_df['ActualReturns']\n",
    "\n",
    "predictions_df['cumStrategyReturns'] = (1 + predictions_df['StrategyReturns']).cumprod()"
   ]
  },
  {
   "cell_type": "code",
   "execution_count": 18,
   "id": "499a14a0",
   "metadata": {},
   "outputs": [
    {
     "data": {
      "text/html": [
       "<div>\n",
       "<style scoped>\n",
       "    .dataframe tbody tr th:only-of-type {\n",
       "        vertical-align: middle;\n",
       "    }\n",
       "\n",
       "    .dataframe tbody tr th {\n",
       "        vertical-align: top;\n",
       "    }\n",
       "\n",
       "    .dataframe thead th {\n",
       "        text-align: right;\n",
       "    }\n",
       "</style>\n",
       "<table border=\"1\" class=\"dataframe\">\n",
       "  <thead>\n",
       "    <tr style=\"text-align: right;\">\n",
       "      <th></th>\n",
       "      <th>Predicted</th>\n",
       "      <th>ActualReturns</th>\n",
       "      <th>StrategyReturns</th>\n",
       "      <th>cumRFStrategyReturns</th>\n",
       "    </tr>\n",
       "    <tr>\n",
       "      <th>Date</th>\n",
       "      <th></th>\n",
       "      <th></th>\n",
       "      <th></th>\n",
       "      <th></th>\n",
       "    </tr>\n",
       "  </thead>\n",
       "  <tbody>\n",
       "    <tr>\n",
       "      <th>2020-10-05 00:00:00+00:00</th>\n",
       "      <td>-1.0</td>\n",
       "      <td>-0.017505</td>\n",
       "      <td>0.017505</td>\n",
       "      <td>1.017505</td>\n",
       "    </tr>\n",
       "    <tr>\n",
       "      <th>2020-10-06 00:00:00+00:00</th>\n",
       "      <td>-1.0</td>\n",
       "      <td>0.006088</td>\n",
       "      <td>-0.006088</td>\n",
       "      <td>1.011310</td>\n",
       "    </tr>\n",
       "    <tr>\n",
       "      <th>2020-10-07 00:00:00+00:00</th>\n",
       "      <td>-1.0</td>\n",
       "      <td>0.023125</td>\n",
       "      <td>-0.023125</td>\n",
       "      <td>0.987924</td>\n",
       "    </tr>\n",
       "    <tr>\n",
       "      <th>2020-10-08 00:00:00+00:00</th>\n",
       "      <td>-1.0</td>\n",
       "      <td>0.013629</td>\n",
       "      <td>-0.013629</td>\n",
       "      <td>0.974459</td>\n",
       "    </tr>\n",
       "    <tr>\n",
       "      <th>2020-10-09 00:00:00+00:00</th>\n",
       "      <td>-1.0</td>\n",
       "      <td>0.020959</td>\n",
       "      <td>-0.020959</td>\n",
       "      <td>0.954035</td>\n",
       "    </tr>\n",
       "    <tr>\n",
       "      <th>...</th>\n",
       "      <td>...</td>\n",
       "      <td>...</td>\n",
       "      <td>...</td>\n",
       "      <td>...</td>\n",
       "    </tr>\n",
       "    <tr>\n",
       "      <th>2022-10-26 00:00:00+00:00</th>\n",
       "      <td>-1.0</td>\n",
       "      <td>-0.023331</td>\n",
       "      <td>0.023331</td>\n",
       "      <td>0.682024</td>\n",
       "    </tr>\n",
       "    <tr>\n",
       "      <th>2022-10-27 00:00:00+00:00</th>\n",
       "      <td>1.0</td>\n",
       "      <td>0.015258</td>\n",
       "      <td>0.015258</td>\n",
       "      <td>0.692430</td>\n",
       "    </tr>\n",
       "    <tr>\n",
       "      <th>2022-10-28 00:00:00+00:00</th>\n",
       "      <td>-1.0</td>\n",
       "      <td>0.010834</td>\n",
       "      <td>-0.010834</td>\n",
       "      <td>0.684928</td>\n",
       "    </tr>\n",
       "    <tr>\n",
       "      <th>2022-10-29 00:00:00+00:00</th>\n",
       "      <td>-1.0</td>\n",
       "      <td>-0.008784</td>\n",
       "      <td>0.008784</td>\n",
       "      <td>0.690945</td>\n",
       "    </tr>\n",
       "    <tr>\n",
       "      <th>2022-10-30 00:00:00+00:00</th>\n",
       "      <td>1.0</td>\n",
       "      <td>-0.006776</td>\n",
       "      <td>-0.006776</td>\n",
       "      <td>0.686263</td>\n",
       "    </tr>\n",
       "  </tbody>\n",
       "</table>\n",
       "<p>756 rows × 4 columns</p>\n",
       "</div>"
      ],
      "text/plain": [
       "                           Predicted  ActualReturns  StrategyReturns  \\\n",
       "Date                                                                   \n",
       "2020-10-05 00:00:00+00:00       -1.0      -0.017505         0.017505   \n",
       "2020-10-06 00:00:00+00:00       -1.0       0.006088        -0.006088   \n",
       "2020-10-07 00:00:00+00:00       -1.0       0.023125        -0.023125   \n",
       "2020-10-08 00:00:00+00:00       -1.0       0.013629        -0.013629   \n",
       "2020-10-09 00:00:00+00:00       -1.0       0.020959        -0.020959   \n",
       "...                              ...            ...              ...   \n",
       "2022-10-26 00:00:00+00:00       -1.0      -0.023331         0.023331   \n",
       "2022-10-27 00:00:00+00:00        1.0       0.015258         0.015258   \n",
       "2022-10-28 00:00:00+00:00       -1.0       0.010834        -0.010834   \n",
       "2022-10-29 00:00:00+00:00       -1.0      -0.008784         0.008784   \n",
       "2022-10-30 00:00:00+00:00        1.0      -0.006776        -0.006776   \n",
       "\n",
       "                           cumRFStrategyReturns  \n",
       "Date                                             \n",
       "2020-10-05 00:00:00+00:00              1.017505  \n",
       "2020-10-06 00:00:00+00:00              1.011310  \n",
       "2020-10-07 00:00:00+00:00              0.987924  \n",
       "2020-10-08 00:00:00+00:00              0.974459  \n",
       "2020-10-09 00:00:00+00:00              0.954035  \n",
       "...                                         ...  \n",
       "2022-10-26 00:00:00+00:00              0.682024  \n",
       "2022-10-27 00:00:00+00:00              0.692430  \n",
       "2022-10-28 00:00:00+00:00              0.684928  \n",
       "2022-10-29 00:00:00+00:00              0.690945  \n",
       "2022-10-30 00:00:00+00:00              0.686263  \n",
       "\n",
       "[756 rows x 4 columns]"
      ]
     },
     "execution_count": 18,
     "metadata": {},
     "output_type": "execute_result"
    }
   ],
   "source": [
    "predictions_df"
   ]
  },
  {
   "cell_type": "code",
   "execution_count": null,
   "id": "85ebd513",
   "metadata": {},
   "outputs": [],
   "source": []
  }
 ],
 "metadata": {
  "kernelspec": {
   "display_name": "Python 3 (ipykernel)",
   "language": "python",
   "name": "python3"
  },
  "language_info": {
   "codemirror_mode": {
    "name": "ipython",
    "version": 3
   },
   "file_extension": ".py",
   "mimetype": "text/x-python",
   "name": "python",
   "nbconvert_exporter": "python",
   "pygments_lexer": "ipython3",
   "version": "3.9.7"
  }
 },
 "nbformat": 4,
 "nbformat_minor": 5
}
