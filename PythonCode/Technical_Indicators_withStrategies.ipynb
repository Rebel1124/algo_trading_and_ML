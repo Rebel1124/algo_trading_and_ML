{
 "cells": [
  {
   "cell_type": "code",
   "execution_count": 1,
   "id": "9a5274ee",
   "metadata": {},
   "outputs": [],
   "source": [
    "# Import Libraries\n",
    "\n",
    "import numpy as np\n",
    "import pandas as pd\n",
    "from pandas.tseries.offsets import DateOffset\n",
    "import pandas_ta as ta    # https://github.com/twopirllc/pandas-ta"
   ]
  },
  {
   "cell_type": "code",
   "execution_count": 2,
   "id": "2e884f4e",
   "metadata": {},
   "outputs": [],
   "source": [
    "# User Inputs\n",
    "\n",
    "assetCodes = ['^RUT']\n",
    "assetNames = ['Russel2000']\n",
    "\n",
    "#assetCodes = ['CL=F', 'GC=F', '^RUT', '^GSPC', 'BTC-USD', 'ETH-USD', 'EURUSD=X', 'GBPJPY=X']\n",
    "#assetNames = ['crudeOil', 'Gold', 'Russel2000', 'S&P500', 'BTC-USD', 'ETH-USD', 'EUR-USD', 'GBP-JPY' ]\n",
    "\n",
    "start_date = '2006-06-30'\n",
    "end_date = '2022-11-01'\n",
    "\n",
    "# Time Interval\n",
    "timePeriod=\"max\"\n",
    "weekly = \"1wk\"\n",
    "daily=\"1d\"\n",
    "\n",
    "# Weekly Indicators\n",
    "weeklyEMAShort = 5\n",
    "weeklyEMALong = 13\n",
    "weeklyADX = 6\n",
    "\n",
    "\n",
    "# Daily Indicators\n",
    "dailyEMAShort = 12\n",
    "dailyEMALong = 26\n",
    "elderRayLength = 12\n",
    "bbandsLength = 21\n",
    "macdFast = 12\n",
    "macdSlow = 26\n",
    "macdSignal = 9"
   ]
  },
  {
   "cell_type": "code",
   "execution_count": 3,
   "id": "72bdcdf7",
   "metadata": {},
   "outputs": [],
   "source": [
    "# Indicator Names\n",
    "\n",
    "# Number of Assets\n",
    "count = len(assetCodes)\n",
    "\n",
    "# Weekly Indicators\n",
    "weeklyEMAShortIndicatorName = 'EMA_'+str(weeklyEMAShort)\n",
    "newWeeklyEMAShortIndicatorName = 'weeklyEMA'+str(weeklyEMAShort)\n",
    "\n",
    "weeklyEMALongIndicatorName = 'EMA_'+str(weeklyEMALong)\n",
    "newWeeklyEMALongIndicatorName = 'weeklyEMA'+str(weeklyEMALong)\n",
    "\n",
    "weeklyADXName = 'ADX_'+str(weeklyADX)\n",
    "newWeeklyADXName = 'weeklyADX'\n",
    "\n",
    "\n",
    "# Daily Indicators\n",
    "dailyEMAShortIndicatorName = 'EMA_'+str(dailyEMAShort)\n",
    "newDailylyEMAShortIndicatorName = 'dailyEMA'+str(dailyEMAShort)\n",
    "\n",
    "dailyEMALongIndicatorName = 'EMA_'+str(dailyEMALong)\n",
    "newDailyEMALongIndicatorName = 'dailyEMA'+str(dailyEMALong)\n",
    "\n",
    "bullPowerIndicatorName = 'BULLP_'+str(elderRayLength)\n",
    "newBullPowerIndicatorName = 'BullPower'\n",
    "\n",
    "bearPowerIndicatorName = 'BEARP_'+str(elderRayLength)\n",
    "newBearPowerIndicatorName = 'BearPower'\n",
    "\n",
    "bollingerLowerIndicatorName = 'BBL_'+str(bbandsLength)+'_2.0'\n",
    "newBollingerLowerIndicatorName = 'lowerBB'\n",
    "\n",
    "bollingerMiddleIndicatorName = 'BBM_'+str(bbandsLength)+'_2.0'\n",
    "newBollingerMiddleIndicatorName = 'middleBB'\n",
    "\n",
    "bollingerUpperIndicatorName = 'BBU_'+str(bbandsLength)+'_2.0'\n",
    "newBollingerUpperIndicatorName = 'upperBB'\n",
    "\n",
    "bollingerStdIndicatorName = 'BBB_'+str(bbandsLength)+'_2.0'\n",
    "newBollingerStdIndicatorName = '2stdBB'\n",
    "\n",
    "macdIndicatorName = \"MACD_\"+str(macdFast)+\"_\"+str(macdSlow)+\"_\"+str(macdSignal)\n",
    "newMACDIndicatorName = \"MACDline\"\n",
    "\n",
    "macdHistogramIndicatorName = \"MACDh_\"+str(macdFast)+\"_\"+str(macdSlow)+\"_\"+str(macdSignal)\n",
    "newMACDHistogramIndicatorName = \"MACDHistogram\"\n",
    "\n",
    "macdSignalIndicatorName = \"MACDs_\"+str(macdFast)+\"_\"+str(macdSlow)+\"_\"+str(macdSignal)\n",
    "newMACDSignalIndicatorName = \"MACDSignal\"\n"
   ]
  },
  {
   "cell_type": "code",
   "execution_count": 4,
   "id": "9a79d9d0",
   "metadata": {},
   "outputs": [],
   "source": [
    "# Function to calculate weekly Indicators\n",
    "\n",
    "def weeklyIndicators(assetCode, timePeriod, weekly, start_date, end_date, weeklyEMAShort, weeklyEMALong, weeklyADX,\n",
    "                     weeklyEMAShortIndicatorName, weeklyEMALongIndicatorName, weeklyADXName,\n",
    "                     newWeeklyEMAShortIndicatorName,newWeeklyEMALongIndicatorName, newWeeklyADXName):\n",
    "    \n",
    "    # Get Weekly Asset Data\n",
    "    dfWeekly = pd.DataFrame()\n",
    "    dfWeekly = dfWeekly.ta.ticker(assetCode, period=timePeriod, interval=weekly)\n",
    "    dfWeekly = dfWeekly[(dfWeekly.index > start_date) & (dfWeekly.index < end_date)]\n",
    "\n",
    "\n",
    "    # Create Custom Weekly Strategy\n",
    "    CustomStrategyWeekly = ta.Strategy(\n",
    "        name=\"Weekly Indicators\",\n",
    "        description=\"Weekly EMA and ADX Indicators\",\n",
    "        ta=[\n",
    "            {\"kind\": \"ema\", \"length\": weeklyEMAShort},\n",
    "            {\"kind\": \"ema\", \"length\": weeklyEMALong},\n",
    "            {\"kind\": \"adx\", \"length\": weeklyADX},\n",
    "        ]\n",
    "    )\n",
    "    \n",
    "    # Run \"Custom Weekly Strategy\"\n",
    "    dfWeekly.ta.strategy(CustomStrategyWeekly)\n",
    "    dfWeekly=dfWeekly.dropna()\n",
    "    algoDataWeekly = dfWeekly[[weeklyEMAShortIndicatorName, weeklyEMALongIndicatorName, weeklyADXName]]\n",
    "\n",
    "    algoDataWeekly = algoDataWeekly.rename({weeklyEMAShortIndicatorName: newWeeklyEMAShortIndicatorName,\n",
    "                                            weeklyEMALongIndicatorName: newWeeklyEMALongIndicatorName,\n",
    "                                            weeklyADXName: newWeeklyADXName}, axis=1)\n",
    "    \n",
    "    \n",
    "    return algoDataWeekly"
   ]
  },
  {
   "cell_type": "code",
   "execution_count": 5,
   "id": "f20e3e13",
   "metadata": {},
   "outputs": [],
   "source": [
    "# Function to calculate daily Indicators\n",
    "\n",
    "def dailyIndicators(assetCode, timePeriod, daily, start_date, end_date, dailyEMAShort, dailyEMALong, elderRayLength,\n",
    "                    bbandsLength, macdFast, macdSlow, macdSignal, dailyEMAShortIndicatorName, dailyEMALongIndicatorName,\n",
    "                    bullPowerIndicatorName, bearPowerIndicatorName, bollingerLowerIndicatorName, \n",
    "                    bollingerMiddleIndicatorName, bollingerUpperIndicatorName, bollingerStdIndicatorName, macdIndicatorName,\n",
    "                    macdHistogramIndicatorName, macdSignalIndicatorName, newDailylyEMAShortIndicatorName,\n",
    "                    newDailyEMALongIndicatorName, newBullPowerIndicatorName, newBearPowerIndicatorName, \n",
    "                    newBollingerLowerIndicatorName, newBollingerMiddleIndicatorName, newBollingerUpperIndicatorName,\n",
    "                    newBollingerStdIndicatorName, newMACDIndicatorName, newMACDHistogramIndicatorName,\n",
    "                    newMACDSignalIndicatorName):\n",
    "    \n",
    "    # Get Daily Asset Data\n",
    "\n",
    "    dfDaily = pd.DataFrame()\n",
    "    dfDaily = dfDaily.ta.ticker(assetCode, period=timePeriod, interval=daily)\n",
    "    dfDaily = dfDaily[(dfDaily.index > start_date) & (dfDaily.index < end_date)]\n",
    "\n",
    "    # Use the pct_change function to generate returns from close prices\n",
    "    dfDaily[\"Actual Returns\"] = dfDaily[\"Close\"].pct_change()\n",
    "\n",
    "    # Drop all NaN values from the DataFrame\n",
    "    dfDaily = dfDaily.dropna()\n",
    "\n",
    "    # Initialize the new Signal column\n",
    "    dfDaily['Signal'] = 0.0\n",
    "\n",
    "    # When Actual Returns are greater than or equal to 0, generate signal to buy asset long\n",
    "    dfDaily.loc[(dfDaily['Actual Returns'] >= 0), 'Signal'] = 1\n",
    "\n",
    "    # When Actual Returns are less than 0, generate signal to sell asset short\n",
    "    dfDaily.loc[(dfDaily['Actual Returns'] < 0), 'Signal'] = -1\n",
    "\n",
    "\n",
    "    # Create your own Custom Strategy\n",
    "    CustomStrategyDaily = ta.Strategy(\n",
    "        name=\"Daily Indicators\",\n",
    "        description=\"daily Trading Indicators\",\n",
    "        ta=[\n",
    "            {\"kind\": \"ema\", \"length\": dailyEMAShort},\n",
    "            {\"kind\": \"ema\", \"length\": dailyEMALong},\n",
    "            {\"kind\": \"eri\", \"length\": elderRayLength},\n",
    "            {\"kind\": \"bbands\", \"length\": bbandsLength},\n",
    "            {\"kind\": \"macd\", \"fast\": macdFast, \"slow\": macdSlow, \"signal\": macdSignal},\n",
    "        ]\n",
    "    )\n",
    "\n",
    "\n",
    "    # Run \"Custom Daily Strategy\"\n",
    "    dfDaily.ta.strategy(CustomStrategyDaily)\n",
    "    dfDaily=dfDaily.dropna()\n",
    "    algoDataDaily = dfDaily[['Close', 'Actual Returns','Signal',dailyEMAShortIndicatorName, dailyEMALongIndicatorName,\n",
    "                         bullPowerIndicatorName, bearPowerIndicatorName, bollingerLowerIndicatorName,\n",
    "                         bollingerMiddleIndicatorName, bollingerUpperIndicatorName, bollingerStdIndicatorName,\n",
    "                         macdIndicatorName, macdHistogramIndicatorName, macdSignalIndicatorName]]\n",
    "\n",
    "    algoDataDaily = algoDataDaily.rename({dailyEMAShortIndicatorName: newDailylyEMAShortIndicatorName,\n",
    "                            dailyEMALongIndicatorName: newDailyEMALongIndicatorName,\n",
    "                            bullPowerIndicatorName: newBullPowerIndicatorName,\n",
    "                            bearPowerIndicatorName: newBearPowerIndicatorName,\n",
    "                            bollingerLowerIndicatorName: newBollingerLowerIndicatorName,\n",
    "                            bollingerMiddleIndicatorName: newBollingerMiddleIndicatorName,\n",
    "                            bollingerUpperIndicatorName: newBollingerUpperIndicatorName,\n",
    "                            bollingerStdIndicatorName: newBollingerStdIndicatorName,\n",
    "                            macdIndicatorName: newMACDIndicatorName,\n",
    "                            macdHistogramIndicatorName: newMACDHistogramIndicatorName,\n",
    "                            macdSignalIndicatorName: newMACDSignalIndicatorName}, axis=1)\n",
    "    \n",
    "    \n",
    "    return algoDataDaily"
   ]
  },
  {
   "cell_type": "code",
   "execution_count": 6,
   "id": "bc3dd884",
   "metadata": {},
   "outputs": [],
   "source": [
    "# Concatent weekly and daily indicators and clean dataset\n",
    "\n",
    "def combineData(algoDataDaily, algoDataWeekly):\n",
    "    algoData = pd.concat([algoDataDaily, algoDataWeekly], axis=1)\n",
    "    #algoData = algoData.ffill(axis=0)\n",
    "    algoData = algoData.interpolate(method='linear', limit_direction='forward', axis=0)\n",
    "    algoData = algoData.dropna()\n",
    "    \n",
    "    return algoData\n",
    "\n",
    "# Save file\n",
    "\n",
    "def saveFile(algoData, assetName):\n",
    "    fileName = 'algoData_'+assetName+'.csv'\n",
    "    algoData.to_csv(fileName)"
   ]
  },
  {
   "cell_type": "code",
   "execution_count": 7,
   "id": "78d20273",
   "metadata": {},
   "outputs": [],
   "source": [
    "# Get Technical Analysis and Signal Data for all Assets\n",
    "\n",
    "for i in range(0,count):\n",
    "\n",
    "    algoDataWeekly = weeklyIndicators(assetCodes[i], timePeriod, weekly, start_date, end_date, weeklyEMAShort, \n",
    "                                  weeklyEMALong, weeklyADX, weeklyEMAShortIndicatorName, weeklyEMALongIndicatorName, \n",
    "                                  weeklyADXName, newWeeklyEMAShortIndicatorName,newWeeklyEMALongIndicatorName, \n",
    "                                  newWeeklyADXName)\n",
    "\n",
    "\n",
    "\n",
    "    algoDataDaily = dailyIndicators(assetCodes[i], timePeriod, daily, start_date, end_date, dailyEMAShort, dailyEMALong, elderRayLength,\n",
    "                                bbandsLength, macdFast, macdSlow, macdSignal, dailyEMAShortIndicatorName,\n",
    "                                dailyEMALongIndicatorName,bullPowerIndicatorName, bearPowerIndicatorName,\n",
    "                                bollingerLowerIndicatorName, bollingerMiddleIndicatorName, bollingerUpperIndicatorName,\n",
    "                                bollingerStdIndicatorName, macdIndicatorName,macdHistogramIndicatorName,\n",
    "                                macdSignalIndicatorName, newDailylyEMAShortIndicatorName,newDailyEMALongIndicatorName,\n",
    "                                newBullPowerIndicatorName, newBearPowerIndicatorName, newBollingerLowerIndicatorName,\n",
    "                                newBollingerMiddleIndicatorName, newBollingerUpperIndicatorName,newBollingerStdIndicatorName,\n",
    "                                newMACDIndicatorName, newMACDHistogramIndicatorName,newMACDSignalIndicatorName)\n",
    "\n",
    "\n",
    "    algoData = combineData(algoDataDaily, algoDataWeekly)\n",
    "\n",
    "    saveFile(algoData, assetNames[i])"
   ]
  },
  {
   "cell_type": "code",
   "execution_count": 8,
   "id": "292b6286",
   "metadata": {},
   "outputs": [],
   "source": [
    "# Split the data into training and test datasets\n",
    "\n",
    "# Assign a copy of the features DataFrame called X\n",
    "X = algoData[[newWeeklyEMAShortIndicatorName, newWeeklyEMALongIndicatorName, newWeeklyADXName, newDailylyEMAShortIndicatorName,\n",
    "             newDailyEMALongIndicatorName, newBullPowerIndicatorName, newBearPowerIndicatorName, newBollingerLowerIndicatorName,\n",
    "             newBollingerMiddleIndicatorName, newBollingerUpperIndicatorName, newBollingerStdIndicatorName,\n",
    "              newMACDIndicatorName, newMACDHistogramIndicatorName, newMACDSignalIndicatorName]].shift().dropna()\n",
    "\n",
    "\n",
    "# Create the target set selecting the Returns column and assiging it to y\n",
    "y = algoData['Actual Returns']\n",
    "\n",
    "# Select the start of the training period\n",
    "training_begin = X.index.min()\n",
    "\n",
    "# Select the ending period for the training data with an offset of 145 months\n",
    "training_end = X.index.min() + DateOffset(months=145)\n",
    "\n",
    "# Generate the X_train and y_train DataFrames\n",
    "X_train = X.loc[training_begin:training_end]\n",
    "y_train = y.loc[training_begin:training_end]\n",
    "\n",
    "# Generate the X_test and y_test DataFrames\n",
    "X_test = X.loc[training_end+DateOffset(hours=1):]\n",
    "y_test = y.loc[training_end+DateOffset(hours=1):]\n"
   ]
  },
  {
   "cell_type": "code",
   "execution_count": 9,
   "id": "ff0c28f0",
   "metadata": {},
   "outputs": [],
   "source": [
    "# MACD Strategy Test\n",
    "#\n",
    "#def macdTest(algoData):\n",
    "#    \n",
    "#    signal = []\n",
    "#    \n",
    "#    for ind in algoData.index:\n",
    "#    \n",
    "#        if((algoData['MACDline'][ind] > algoData['MACDSignal'][ind]) & (algoData['MACDline'][ind] > algoData['MACDSignal'][ind].shift(1)) & (algoData['weeklyEMA5'][ind] > algoData['weeklyEMA5'][ind].shift(1)) & (algoData['weeklyEMA13'][ind] > algoData['weeklyEMA13'][ind].shift(1)) & (algoData['weeklyADX'][ind] > 25)):\n",
    "#        \n",
    "#            signal.append(1)\n",
    "#    \n",
    "#        elif ((algoData['MACDline'][ind] < algoData['MACDSignal'][ind]) & (algoData['MACDline'][ind] < algoData['MACDSignal'][ind].shift(1)) & (algoData['weeklyEMA5'] < algoData['weeklyEMA5'][ind].shift(1)) & (algoData['weeklyEMA13'][ind] < algoData['weeklyEMA13'][ind].shift(1)) & (algoData['weeklyADX'][ind] > 25)):\n",
    "#\n",
    "#            signal.append(-1)\n",
    "#    \n",
    "#        else:\n",
    "#        \n",
    "#            signal.append(0)\n",
    "#        \n",
    "#    return signal"
   ]
  },
  {
   "cell_type": "code",
   "execution_count": 10,
   "id": "5424973f",
   "metadata": {},
   "outputs": [],
   "source": [
    "# MACD Strategy Function\n",
    "\n",
    "def macdStrategy(algoData):\n",
    "    \n",
    "    dates = algoData.index\n",
    "    \n",
    "    algoData = algoData.reset_index(drop=True)\n",
    "    \n",
    "    signal = [0]\n",
    "    \n",
    "    for ind in range(1, algoData.shape[0]):\n",
    "    \n",
    "        if((algoData['MACDline'][ind] > algoData['MACDSignal'][ind]) & (algoData['MACDline'][ind-1] > algoData['MACDSignal'][ind-1]) & (algoData['weeklyEMA5'][ind] > algoData['weeklyEMA5'][ind-1]) & (algoData['weeklyEMA13'][ind] > algoData['weeklyEMA13'][ind-1]) & (algoData['weeklyADX'][ind] > 25)):\n",
    "        \n",
    "            signal.append(1)\n",
    "    \n",
    "        elif ((algoData['MACDline'][ind] < algoData['MACDSignal'][ind]) & (algoData['MACDline'][ind-1] < algoData['MACDSignal'][ind-1]) & (algoData['weeklyEMA5'][ind] < algoData['weeklyEMA5'][ind-1]) & (algoData['weeklyEMA13'][ind] < algoData['weeklyEMA13'][ind-1]) & (algoData['weeklyADX'][ind] > 25)):\n",
    "\n",
    "            signal.append(-1)\n",
    "    \n",
    "        else:\n",
    "        \n",
    "            signal.append(0)\n",
    "    \n",
    "    algoData.index = dates\n",
    "        \n",
    "    return signal"
   ]
  },
  {
   "cell_type": "code",
   "execution_count": 11,
   "id": "94e89019",
   "metadata": {},
   "outputs": [],
   "source": [
    "algoData['MACDStrategy'] = macdStrategy(algoData)"
   ]
  },
  {
   "cell_type": "code",
   "execution_count": 19,
   "id": "19f8be87",
   "metadata": {},
   "outputs": [],
   "source": [
    "algoData['MACDStrategyReturns'] = algoData['Actual Returns'] * algoData['MACDStrategy'].shift()"
   ]
  },
  {
   "cell_type": "code",
   "execution_count": 26,
   "id": "e53a532b",
   "metadata": {},
   "outputs": [],
   "source": [
    "macdReturns = (1 + algoData['MACDStrategyReturns']).cumprod().sum()"
   ]
  },
  {
   "cell_type": "code",
   "execution_count": 29,
   "id": "eaf10831",
   "metadata": {},
   "outputs": [],
   "source": [
    "buyHold = (1+algoData['Actual Returns']).cumprod().sum()"
   ]
  },
  {
   "cell_type": "code",
   "execution_count": 32,
   "id": "321a2c50",
   "metadata": {},
   "outputs": [
    {
     "data": {
      "text/plain": [
       "60478.505764791"
      ]
     },
     "execution_count": 32,
     "metadata": {},
     "output_type": "execute_result"
    }
   ],
   "source": [
    "macdReturns"
   ]
  },
  {
   "cell_type": "code",
   "execution_count": 31,
   "id": "79003f56",
   "metadata": {},
   "outputs": [
    {
     "data": {
      "text/plain": [
       "6815.134150774334"
      ]
     },
     "execution_count": 31,
     "metadata": {},
     "output_type": "execute_result"
    }
   ],
   "source": [
    "buyHold"
   ]
  },
  {
   "cell_type": "code",
   "execution_count": 12,
   "id": "47e41ea3",
   "metadata": {},
   "outputs": [],
   "source": [
    "# Impulse System"
   ]
  },
  {
   "cell_type": "code",
   "execution_count": 13,
   "id": "c3517c8a",
   "metadata": {},
   "outputs": [],
   "source": [
    "# Elder-Ray "
   ]
  },
  {
   "cell_type": "code",
   "execution_count": 14,
   "id": "df9b5cff",
   "metadata": {},
   "outputs": [],
   "source": [
    "# Bollinger Bands"
   ]
  },
  {
   "cell_type": "code",
   "execution_count": 20,
   "id": "04707972",
   "metadata": {},
   "outputs": [],
   "source": [
    "algoData.to_csv('algoData.csv')"
   ]
  },
  {
   "cell_type": "code",
   "execution_count": null,
   "id": "835a6942",
   "metadata": {},
   "outputs": [],
   "source": []
  },
  {
   "cell_type": "code",
   "execution_count": null,
   "id": "18f65c03",
   "metadata": {},
   "outputs": [],
   "source": []
  }
 ],
 "metadata": {
  "kernelspec": {
   "display_name": "Python 3 (ipykernel)",
   "language": "python",
   "name": "python3"
  },
  "language_info": {
   "codemirror_mode": {
    "name": "ipython",
    "version": 3
   },
   "file_extension": ".py",
   "mimetype": "text/x-python",
   "name": "python",
   "nbconvert_exporter": "python",
   "pygments_lexer": "ipython3",
   "version": "3.9.7"
  }
 },
 "nbformat": 4,
 "nbformat_minor": 5
}
