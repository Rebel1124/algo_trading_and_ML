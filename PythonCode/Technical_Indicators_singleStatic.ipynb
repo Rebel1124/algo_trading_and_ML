{
 "cells": [
  {
   "cell_type": "code",
   "execution_count": 1,
   "id": "9a5274ee",
   "metadata": {},
   "outputs": [],
   "source": [
    "# Import Libraries\n",
    "\n",
    "import numpy as np\n",
    "import pandas as pd\n",
    "import pandas_ta as ta    # https://github.com/twopirllc/pandas-ta"
   ]
  },
  {
   "cell_type": "code",
   "execution_count": 2,
   "id": "616614a1",
   "metadata": {},
   "outputs": [],
   "source": [
    "# Get Weekly Asset Data\n",
    "\n",
    "dfWeekly = pd.DataFrame()\n",
    "dfWeekly = dfWeekly.ta.ticker(\"GC=F\", period=\"max\", interval=\"1wk\")\n",
    "dfWeekly = dfWeekly[(dfWeekly.index > '2006-06-30') & (dfWeekly.index < '2022-11-01')]\n",
    "\n",
    "\n",
    "# Create Custom Weekly Strategy\n",
    "#CustomStrategyWeekly = ta.Strategy(\n",
    "#    name=\"Weekly Indicators\",\n",
    "#    description=\"Weekly EMA and ADX Indicators\",\n",
    "#    ta=[\n",
    "#        {\"kind\": \"ema\", \"length\": 5},\n",
    "#        {\"kind\": \"ema\", \"length\": 13},\n",
    "#        {\"kind\": \"adx\", \"length\": 6},\n",
    "#    ]\n",
    "#)\n",
    "# Run \"Custom Weekly Strategy\"\n",
    "#dfWeekly.ta.strategy(CustomStrategyWeekly)\n",
    "#dfWeekly=dfWeekly.dropna()\n",
    "#algoDataWeekly = dfWeekly[['Close', 'EMA_5', 'EMA_13', 'ADX_6']]\n",
    "\n",
    "#algoDataWeekly = algoDataWeekly.rename({'EMA_5': 'weeklyEMA5',\n",
    "#                            'EMA_13': 'weeklyEMA13',\n",
    "#                            'ADX_6':'weeklyADX'}, axis=1)"
   ]
  },
  {
   "cell_type": "code",
   "execution_count": 3,
   "id": "93909a64",
   "metadata": {},
   "outputs": [],
   "source": [
    "# Get Daily Asset Data\n",
    "\n",
    "dfDaily = pd.DataFrame()\n",
    "dfDaily = dfDaily.ta.ticker(\"GC=F\", period=\"max\", interval=\"1d\")\n",
    "dfDaily = dfDaily[(dfDaily.index > '2006-06-30') & (dfDaily.index < '2022-11-01')]\n",
    "\n",
    "\n",
    "# Create your own Custom Strategy\n",
    "#CustomStrategyDaily = ta.Strategy(\n",
    "#    name=\"Daily Indicators\",\n",
    "#    description=\"daily Trading Indicators\",\n",
    "#    ta=[\n",
    "#        {\"kind\": \"ema\", \"length\": 12},\n",
    "#        {\"kind\": \"ema\", \"length\": 26},\n",
    "#        {\"kind\": \"eri\", \"length\": 12},\n",
    "#        {\"kind\": \"bbands\", \"length\": 21},\n",
    "#        {\"kind\": \"macd\", \"fast\": 12, \"slow\": 26, \"signal\": 9},\n",
    "#        \n",
    "#    ]\n",
    "#)\n",
    "# Run \"Custom Daily Strategy\"\n",
    "#dfDaily.ta.strategy(CustomStrategyDaily)\n",
    "#dfDaily=dfDaily.dropna()\n",
    "#algoDataDaily = dfDaily[['Close', 'EMA_12', 'EMA_26', 'BULLP_12', 'BEARP_12', 'BBL_21_2.0',\n",
    "#                         'BBM_21_2.0', 'BBU_21_2.0', 'BBB_21_2.0', 'MACD_12_26_9', \n",
    "#                         'MACDh_12_26_9', 'MACDs_12_26_9']]\n",
    "\n",
    "#algoDataDaily = algoDataDaily.rename({'EMA_12': 'dailyEMA12',\n",
    "#                            'EMA_26': 'dailyEMA26',\n",
    "#                            'BULLP_12': 'BullPower',\n",
    "#                            'BEARP_12': 'BearPower',\n",
    "#                            'BBL_21_2.0': 'lowerBB',\n",
    "#                            'BBM_21_2.0': 'middleBB',\n",
    "#                            'BBU_21_2.0': 'upperBB',\n",
    "#                            'BBB_21_2.0': '2stdBB',\n",
    "#                            'MACD_12_26_9': 'MACDline',\n",
    "#                            'MACDh_12_26_9': 'MACDhistogram',\n",
    "#                            'MACDs_12_26_9':'MACDsignal'}, axis=1)"
   ]
  },
  {
   "cell_type": "code",
   "execution_count": null,
   "id": "bc3dd884",
   "metadata": {},
   "outputs": [],
   "source": [
    "# Concatenta weekly and daily indicators and clean dataset\n",
    "\n",
    "algoData = pd.concat([algoDataDaily, algoDataWeekly], axis=1)\n",
    "algoData = algoData.ffill(axis=0)\n",
    "algoData = algoData.dropna()\n",
    "\n",
    "# Save file\n",
    "fileName = 'algoData_'+'Gold'+'.csv'\n",
    "algoData.to_csv(fileName)"
   ]
  },
  {
   "cell_type": "code",
   "execution_count": null,
   "id": "4307fcfe",
   "metadata": {},
   "outputs": [],
   "source": [
    "algoDataDaily.to_csv('daily.csv')"
   ]
  },
  {
   "cell_type": "code",
   "execution_count": null,
   "id": "1cfc779e",
   "metadata": {},
   "outputs": [],
   "source": [
    "algoDataWeekly.to_csv('weekly.csv')"
   ]
  },
  {
   "cell_type": "code",
   "execution_count": null,
   "id": "bf856ed2",
   "metadata": {},
   "outputs": [],
   "source": [
    "algoData.to_csv('algo.csv')"
   ]
  },
  {
   "cell_type": "code",
   "execution_count": null,
   "id": "63f2fd18",
   "metadata": {},
   "outputs": [],
   "source": [
    "dfWeekly"
   ]
  },
  {
   "cell_type": "code",
   "execution_count": 4,
   "id": "d67baaf7",
   "metadata": {},
   "outputs": [],
   "source": [
    "dfDaily.to_csv('dfdaily.csv')"
   ]
  },
  {
   "cell_type": "code",
   "execution_count": 5,
   "id": "dc47e7ad",
   "metadata": {},
   "outputs": [],
   "source": [
    "dfWeekly.to_csv('dfweekly.csv')"
   ]
  },
  {
   "cell_type": "code",
   "execution_count": null,
   "id": "37a5840d",
   "metadata": {},
   "outputs": [],
   "source": []
  },
  {
   "cell_type": "code",
   "execution_count": null,
   "id": "3e1a7d94",
   "metadata": {},
   "outputs": [],
   "source": [
    "dfWeekly1 = pd.DataFrame()\n",
    "dfWeekly1 = dfWeekly1.ta.ticker(\"GC=F\", period=\"max\", interval=\"1wk\")\n",
    "dfWeekly1 = dfWeekly1[(dfWeekly1.index > '2006-06-30') & (dfWeekly1.index < '2022-11-01')]"
   ]
  },
  {
   "cell_type": "code",
   "execution_count": null,
   "id": "c4462f33",
   "metadata": {},
   "outputs": [],
   "source": [
    "dfDaily1 = pd.DataFrame()\n",
    "dfDaily1 = dfDaily1.ta.ticker(\"GC=F\", period=\"max\", interval=\"1d\")\n",
    "dfDaily1 = dfDaily1[(dfDaily1.index > '2006-06-30') & (dfDaily1.index < '2022-11-01')]"
   ]
  },
  {
   "cell_type": "code",
   "execution_count": null,
   "id": "84507c04",
   "metadata": {},
   "outputs": [],
   "source": []
  },
  {
   "cell_type": "code",
   "execution_count": null,
   "id": "61e7ebec",
   "metadata": {},
   "outputs": [],
   "source": [
    "allData = pd.concat([dfDaily, dfWeekly], axis=1)"
   ]
  },
  {
   "cell_type": "code",
   "execution_count": null,
   "id": "f9212e80",
   "metadata": {},
   "outputs": [],
   "source": [
    "allData.to_csv('alldata.csv')"
   ]
  },
  {
   "cell_type": "code",
   "execution_count": 9,
   "id": "a71c8bb6",
   "metadata": {},
   "outputs": [],
   "source": [
    "dfDaily['Date'] = dfDaily.index"
   ]
  },
  {
   "cell_type": "code",
   "execution_count": 14,
   "id": "ab3fcdc3",
   "metadata": {},
   "outputs": [
    {
     "ename": "AttributeError",
     "evalue": "'DatetimeIndex' object has no attribute 'dayofweekday'",
     "output_type": "error",
     "traceback": [
      "\u001b[1;31m---------------------------------------------------------------------------\u001b[0m",
      "\u001b[1;31mAttributeError\u001b[0m                            Traceback (most recent call last)",
      "Cell \u001b[1;32mIn [14], line 1\u001b[0m\n\u001b[1;32m----> 1\u001b[0m dfDaily\u001b[38;5;241m.\u001b[39mloc[[\u001b[43mdfDaily\u001b[49m\u001b[38;5;241;43m.\u001b[39;49m\u001b[43mindex\u001b[49m\u001b[38;5;241;43m.\u001b[39;49m\u001b[43mdayofweekday\u001b[49m \u001b[38;5;241m==\u001b[39m \u001b[38;5;241m2\u001b[39m]]\n",
      "\u001b[1;31mAttributeError\u001b[0m: 'DatetimeIndex' object has no attribute 'dayofweekday'"
     ]
    }
   ],
   "source": []
  },
  {
   "cell_type": "code",
   "execution_count": 11,
   "id": "7fb984d4",
   "metadata": {},
   "outputs": [],
   "source": [
    "dayofweek = dfDaily.index.dayofweek"
   ]
  },
  {
   "cell_type": "code",
   "execution_count": 21,
   "id": "de8ed819",
   "metadata": {},
   "outputs": [],
   "source": [
    "t = dfDaily[(dfDaily.index.dayofweek == 0)]"
   ]
  },
  {
   "cell_type": "code",
   "execution_count": 22,
   "id": "0aa180ff",
   "metadata": {},
   "outputs": [
    {
     "data": {
      "text/html": [
       "<div>\n",
       "<style scoped>\n",
       "    .dataframe tbody tr th:only-of-type {\n",
       "        vertical-align: middle;\n",
       "    }\n",
       "\n",
       "    .dataframe tbody tr th {\n",
       "        vertical-align: top;\n",
       "    }\n",
       "\n",
       "    .dataframe thead th {\n",
       "        text-align: right;\n",
       "    }\n",
       "</style>\n",
       "<table border=\"1\" class=\"dataframe\">\n",
       "  <thead>\n",
       "    <tr style=\"text-align: right;\">\n",
       "      <th></th>\n",
       "      <th>Open</th>\n",
       "      <th>High</th>\n",
       "      <th>Low</th>\n",
       "      <th>Close</th>\n",
       "      <th>Volume</th>\n",
       "      <th>Dividends</th>\n",
       "      <th>Stock Splits</th>\n",
       "      <th>Date</th>\n",
       "    </tr>\n",
       "    <tr>\n",
       "      <th>Date</th>\n",
       "      <th></th>\n",
       "      <th></th>\n",
       "      <th></th>\n",
       "      <th></th>\n",
       "      <th></th>\n",
       "      <th></th>\n",
       "      <th></th>\n",
       "      <th></th>\n",
       "    </tr>\n",
       "  </thead>\n",
       "  <tbody>\n",
       "    <tr>\n",
       "      <th>2006-07-10 00:00:00-04:00</th>\n",
       "      <td>632.799988</td>\n",
       "      <td>632.799988</td>\n",
       "      <td>632.799988</td>\n",
       "      <td>624.099976</td>\n",
       "      <td>6</td>\n",
       "      <td>0</td>\n",
       "      <td>0</td>\n",
       "      <td>2006-07-10 00:00:00-04:00</td>\n",
       "    </tr>\n",
       "    <tr>\n",
       "      <th>2006-07-17 00:00:00-04:00</th>\n",
       "      <td>675.099976</td>\n",
       "      <td>677.000000</td>\n",
       "      <td>675.099976</td>\n",
       "      <td>650.599976</td>\n",
       "      <td>40</td>\n",
       "      <td>0</td>\n",
       "      <td>0</td>\n",
       "      <td>2006-07-17 00:00:00-04:00</td>\n",
       "    </tr>\n",
       "    <tr>\n",
       "      <th>2006-07-24 00:00:00-04:00</th>\n",
       "      <td>619.599976</td>\n",
       "      <td>619.599976</td>\n",
       "      <td>619.599976</td>\n",
       "      <td>612.700012</td>\n",
       "      <td>600</td>\n",
       "      <td>0</td>\n",
       "      <td>0</td>\n",
       "      <td>2006-07-24 00:00:00-04:00</td>\n",
       "    </tr>\n",
       "    <tr>\n",
       "      <th>2006-07-31 00:00:00-04:00</th>\n",
       "      <td>634.500000</td>\n",
       "      <td>646.500000</td>\n",
       "      <td>627.000000</td>\n",
       "      <td>634.200012</td>\n",
       "      <td>3183</td>\n",
       "      <td>0</td>\n",
       "      <td>0</td>\n",
       "      <td>2006-07-31 00:00:00-04:00</td>\n",
       "    </tr>\n",
       "    <tr>\n",
       "      <th>2006-08-07 00:00:00-04:00</th>\n",
       "      <td>651.200012</td>\n",
       "      <td>652.000000</td>\n",
       "      <td>646.500000</td>\n",
       "      <td>647.799988</td>\n",
       "      <td>139</td>\n",
       "      <td>0</td>\n",
       "      <td>0</td>\n",
       "      <td>2006-08-07 00:00:00-04:00</td>\n",
       "    </tr>\n",
       "    <tr>\n",
       "      <th>...</th>\n",
       "      <td>...</td>\n",
       "      <td>...</td>\n",
       "      <td>...</td>\n",
       "      <td>...</td>\n",
       "      <td>...</td>\n",
       "      <td>...</td>\n",
       "      <td>...</td>\n",
       "      <td>...</td>\n",
       "    </tr>\n",
       "    <tr>\n",
       "      <th>2022-10-03 00:00:00-04:00</th>\n",
       "      <td>1667.199951</td>\n",
       "      <td>1700.000000</td>\n",
       "      <td>1661.900024</td>\n",
       "      <td>1692.900024</td>\n",
       "      <td>410</td>\n",
       "      <td>0</td>\n",
       "      <td>0</td>\n",
       "      <td>2022-10-03 00:00:00-04:00</td>\n",
       "    </tr>\n",
       "    <tr>\n",
       "      <th>2022-10-10 00:00:00-04:00</th>\n",
       "      <td>1693.400024</td>\n",
       "      <td>1693.400024</td>\n",
       "      <td>1667.000000</td>\n",
       "      <td>1667.300049</td>\n",
       "      <td>195</td>\n",
       "      <td>0</td>\n",
       "      <td>0</td>\n",
       "      <td>2022-10-10 00:00:00-04:00</td>\n",
       "    </tr>\n",
       "    <tr>\n",
       "      <th>2022-10-17 00:00:00-04:00</th>\n",
       "      <td>1650.199951</td>\n",
       "      <td>1657.000000</td>\n",
       "      <td>1646.800049</td>\n",
       "      <td>1657.000000</td>\n",
       "      <td>238</td>\n",
       "      <td>0</td>\n",
       "      <td>0</td>\n",
       "      <td>2022-10-17 00:00:00-04:00</td>\n",
       "    </tr>\n",
       "    <tr>\n",
       "      <th>2022-10-24 00:00:00-04:00</th>\n",
       "      <td>1662.699951</td>\n",
       "      <td>1662.699951</td>\n",
       "      <td>1648.699951</td>\n",
       "      <td>1648.699951</td>\n",
       "      <td>29</td>\n",
       "      <td>0</td>\n",
       "      <td>0</td>\n",
       "      <td>2022-10-24 00:00:00-04:00</td>\n",
       "    </tr>\n",
       "    <tr>\n",
       "      <th>2022-10-31 00:00:00-04:00</th>\n",
       "      <td>1641.800049</td>\n",
       "      <td>1641.800049</td>\n",
       "      <td>1633.400024</td>\n",
       "      <td>1635.900024</td>\n",
       "      <td>522</td>\n",
       "      <td>0</td>\n",
       "      <td>0</td>\n",
       "      <td>2022-10-31 00:00:00-04:00</td>\n",
       "    </tr>\n",
       "  </tbody>\n",
       "</table>\n",
       "<p>770 rows × 8 columns</p>\n",
       "</div>"
      ],
      "text/plain": [
       "                                  Open         High          Low        Close  \\\n",
       "Date                                                                            \n",
       "2006-07-10 00:00:00-04:00   632.799988   632.799988   632.799988   624.099976   \n",
       "2006-07-17 00:00:00-04:00   675.099976   677.000000   675.099976   650.599976   \n",
       "2006-07-24 00:00:00-04:00   619.599976   619.599976   619.599976   612.700012   \n",
       "2006-07-31 00:00:00-04:00   634.500000   646.500000   627.000000   634.200012   \n",
       "2006-08-07 00:00:00-04:00   651.200012   652.000000   646.500000   647.799988   \n",
       "...                                ...          ...          ...          ...   \n",
       "2022-10-03 00:00:00-04:00  1667.199951  1700.000000  1661.900024  1692.900024   \n",
       "2022-10-10 00:00:00-04:00  1693.400024  1693.400024  1667.000000  1667.300049   \n",
       "2022-10-17 00:00:00-04:00  1650.199951  1657.000000  1646.800049  1657.000000   \n",
       "2022-10-24 00:00:00-04:00  1662.699951  1662.699951  1648.699951  1648.699951   \n",
       "2022-10-31 00:00:00-04:00  1641.800049  1641.800049  1633.400024  1635.900024   \n",
       "\n",
       "                           Volume  Dividends  Stock Splits  \\\n",
       "Date                                                         \n",
       "2006-07-10 00:00:00-04:00       6          0             0   \n",
       "2006-07-17 00:00:00-04:00      40          0             0   \n",
       "2006-07-24 00:00:00-04:00     600          0             0   \n",
       "2006-07-31 00:00:00-04:00    3183          0             0   \n",
       "2006-08-07 00:00:00-04:00     139          0             0   \n",
       "...                           ...        ...           ...   \n",
       "2022-10-03 00:00:00-04:00     410          0             0   \n",
       "2022-10-10 00:00:00-04:00     195          0             0   \n",
       "2022-10-17 00:00:00-04:00     238          0             0   \n",
       "2022-10-24 00:00:00-04:00      29          0             0   \n",
       "2022-10-31 00:00:00-04:00     522          0             0   \n",
       "\n",
       "                                               Date  \n",
       "Date                                                 \n",
       "2006-07-10 00:00:00-04:00 2006-07-10 00:00:00-04:00  \n",
       "2006-07-17 00:00:00-04:00 2006-07-17 00:00:00-04:00  \n",
       "2006-07-24 00:00:00-04:00 2006-07-24 00:00:00-04:00  \n",
       "2006-07-31 00:00:00-04:00 2006-07-31 00:00:00-04:00  \n",
       "2006-08-07 00:00:00-04:00 2006-08-07 00:00:00-04:00  \n",
       "...                                             ...  \n",
       "2022-10-03 00:00:00-04:00 2022-10-03 00:00:00-04:00  \n",
       "2022-10-10 00:00:00-04:00 2022-10-10 00:00:00-04:00  \n",
       "2022-10-17 00:00:00-04:00 2022-10-17 00:00:00-04:00  \n",
       "2022-10-24 00:00:00-04:00 2022-10-24 00:00:00-04:00  \n",
       "2022-10-31 00:00:00-04:00 2022-10-31 00:00:00-04:00  \n",
       "\n",
       "[770 rows x 8 columns]"
      ]
     },
     "execution_count": 22,
     "metadata": {},
     "output_type": "execute_result"
    }
   ],
   "source": [
    "t"
   ]
  },
  {
   "cell_type": "code",
   "execution_count": null,
   "id": "3562d3b0",
   "metadata": {},
   "outputs": [],
   "source": []
  },
  {
   "cell_type": "code",
   "execution_count": null,
   "id": "fee73a2c",
   "metadata": {},
   "outputs": [],
   "source": []
  }
 ],
 "metadata": {
  "kernelspec": {
   "display_name": "Python 3 (ipykernel)",
   "language": "python",
   "name": "python3"
  },
  "language_info": {
   "codemirror_mode": {
    "name": "ipython",
    "version": 3
   },
   "file_extension": ".py",
   "mimetype": "text/x-python",
   "name": "python",
   "nbconvert_exporter": "python",
   "pygments_lexer": "ipython3",
   "version": "3.9.7"
  }
 },
 "nbformat": 4,
 "nbformat_minor": 5
}
